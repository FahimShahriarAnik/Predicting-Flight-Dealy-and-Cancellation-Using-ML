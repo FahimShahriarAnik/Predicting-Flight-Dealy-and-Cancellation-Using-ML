{
 "cells": [
  {
   "cell_type": "code",
   "execution_count": 3,
   "metadata": {},
   "outputs": [],
   "source": [
    "import numpy as np\n",
    "import pandas as pd\n",
    "import csv\n",
    "from sklearn.ensemble import RandomForestRegressor\n",
    "from sklearn.metrics import mean_absolute_error, mean_squared_error, r2_score, classification_report, accuracy_score\n",
    "import pickle\n",
    "import xgboost as xgb\n",
    "from sklearn.metrics import mean_absolute_error, mean_squared_error, r2_score\n",
    "from sklearn.model_selection import GridSearchCV"
   ]
  },
  {
   "cell_type": "code",
   "execution_count": 4,
   "metadata": {},
   "outputs": [
    {
     "name": "stderr",
     "output_type": "stream",
     "text": [
      "/tmp/ipykernel_2681743/1050476599.py:1: DtypeWarning: Columns (7,8) have mixed types. Specify dtype option on import or set low_memory=False.\n",
      "  loaded_df=pd.read_csv('flights.csv')\n"
     ]
    },
    {
     "data": {
      "text/html": [
       "<div>\n",
       "<style scoped>\n",
       "    .dataframe tbody tr th:only-of-type {\n",
       "        vertical-align: middle;\n",
       "    }\n",
       "\n",
       "    .dataframe tbody tr th {\n",
       "        vertical-align: top;\n",
       "    }\n",
       "\n",
       "    .dataframe thead th {\n",
       "        text-align: right;\n",
       "    }\n",
       "</style>\n",
       "<table border=\"1\" class=\"dataframe\">\n",
       "  <thead>\n",
       "    <tr style=\"text-align: right;\">\n",
       "      <th></th>\n",
       "      <th>YEAR</th>\n",
       "      <th>MONTH</th>\n",
       "      <th>DAY</th>\n",
       "      <th>DAY_OF_WEEK</th>\n",
       "      <th>AIRLINE</th>\n",
       "      <th>FLIGHT_NUMBER</th>\n",
       "      <th>TAIL_NUMBER</th>\n",
       "      <th>ORIGIN_AIRPORT</th>\n",
       "      <th>DESTINATION_AIRPORT</th>\n",
       "      <th>SCHEDULED_DEPARTURE</th>\n",
       "      <th>...</th>\n",
       "      <th>ARRIVAL_TIME</th>\n",
       "      <th>ARRIVAL_DELAY</th>\n",
       "      <th>DIVERTED</th>\n",
       "      <th>CANCELLED</th>\n",
       "      <th>CANCELLATION_REASON</th>\n",
       "      <th>AIR_SYSTEM_DELAY</th>\n",
       "      <th>SECURITY_DELAY</th>\n",
       "      <th>AIRLINE_DELAY</th>\n",
       "      <th>LATE_AIRCRAFT_DELAY</th>\n",
       "      <th>WEATHER_DELAY</th>\n",
       "    </tr>\n",
       "  </thead>\n",
       "  <tbody>\n",
       "    <tr>\n",
       "      <th>0</th>\n",
       "      <td>2015</td>\n",
       "      <td>1</td>\n",
       "      <td>1</td>\n",
       "      <td>4</td>\n",
       "      <td>AS</td>\n",
       "      <td>98</td>\n",
       "      <td>N407AS</td>\n",
       "      <td>ANC</td>\n",
       "      <td>SEA</td>\n",
       "      <td>5</td>\n",
       "      <td>...</td>\n",
       "      <td>408.0</td>\n",
       "      <td>-22.0</td>\n",
       "      <td>0</td>\n",
       "      <td>0</td>\n",
       "      <td>NaN</td>\n",
       "      <td>NaN</td>\n",
       "      <td>NaN</td>\n",
       "      <td>NaN</td>\n",
       "      <td>NaN</td>\n",
       "      <td>NaN</td>\n",
       "    </tr>\n",
       "    <tr>\n",
       "      <th>1</th>\n",
       "      <td>2015</td>\n",
       "      <td>1</td>\n",
       "      <td>1</td>\n",
       "      <td>4</td>\n",
       "      <td>AA</td>\n",
       "      <td>2336</td>\n",
       "      <td>N3KUAA</td>\n",
       "      <td>LAX</td>\n",
       "      <td>PBI</td>\n",
       "      <td>10</td>\n",
       "      <td>...</td>\n",
       "      <td>741.0</td>\n",
       "      <td>-9.0</td>\n",
       "      <td>0</td>\n",
       "      <td>0</td>\n",
       "      <td>NaN</td>\n",
       "      <td>NaN</td>\n",
       "      <td>NaN</td>\n",
       "      <td>NaN</td>\n",
       "      <td>NaN</td>\n",
       "      <td>NaN</td>\n",
       "    </tr>\n",
       "    <tr>\n",
       "      <th>2</th>\n",
       "      <td>2015</td>\n",
       "      <td>1</td>\n",
       "      <td>1</td>\n",
       "      <td>4</td>\n",
       "      <td>US</td>\n",
       "      <td>840</td>\n",
       "      <td>N171US</td>\n",
       "      <td>SFO</td>\n",
       "      <td>CLT</td>\n",
       "      <td>20</td>\n",
       "      <td>...</td>\n",
       "      <td>811.0</td>\n",
       "      <td>5.0</td>\n",
       "      <td>0</td>\n",
       "      <td>0</td>\n",
       "      <td>NaN</td>\n",
       "      <td>NaN</td>\n",
       "      <td>NaN</td>\n",
       "      <td>NaN</td>\n",
       "      <td>NaN</td>\n",
       "      <td>NaN</td>\n",
       "    </tr>\n",
       "    <tr>\n",
       "      <th>3</th>\n",
       "      <td>2015</td>\n",
       "      <td>1</td>\n",
       "      <td>1</td>\n",
       "      <td>4</td>\n",
       "      <td>AA</td>\n",
       "      <td>258</td>\n",
       "      <td>N3HYAA</td>\n",
       "      <td>LAX</td>\n",
       "      <td>MIA</td>\n",
       "      <td>20</td>\n",
       "      <td>...</td>\n",
       "      <td>756.0</td>\n",
       "      <td>-9.0</td>\n",
       "      <td>0</td>\n",
       "      <td>0</td>\n",
       "      <td>NaN</td>\n",
       "      <td>NaN</td>\n",
       "      <td>NaN</td>\n",
       "      <td>NaN</td>\n",
       "      <td>NaN</td>\n",
       "      <td>NaN</td>\n",
       "    </tr>\n",
       "    <tr>\n",
       "      <th>4</th>\n",
       "      <td>2015</td>\n",
       "      <td>1</td>\n",
       "      <td>1</td>\n",
       "      <td>4</td>\n",
       "      <td>AS</td>\n",
       "      <td>135</td>\n",
       "      <td>N527AS</td>\n",
       "      <td>SEA</td>\n",
       "      <td>ANC</td>\n",
       "      <td>25</td>\n",
       "      <td>...</td>\n",
       "      <td>259.0</td>\n",
       "      <td>-21.0</td>\n",
       "      <td>0</td>\n",
       "      <td>0</td>\n",
       "      <td>NaN</td>\n",
       "      <td>NaN</td>\n",
       "      <td>NaN</td>\n",
       "      <td>NaN</td>\n",
       "      <td>NaN</td>\n",
       "      <td>NaN</td>\n",
       "    </tr>\n",
       "  </tbody>\n",
       "</table>\n",
       "<p>5 rows × 31 columns</p>\n",
       "</div>"
      ],
      "text/plain": [
       "   YEAR  MONTH  DAY  DAY_OF_WEEK AIRLINE  FLIGHT_NUMBER TAIL_NUMBER  \\\n",
       "0  2015      1    1            4      AS             98      N407AS   \n",
       "1  2015      1    1            4      AA           2336      N3KUAA   \n",
       "2  2015      1    1            4      US            840      N171US   \n",
       "3  2015      1    1            4      AA            258      N3HYAA   \n",
       "4  2015      1    1            4      AS            135      N527AS   \n",
       "\n",
       "  ORIGIN_AIRPORT DESTINATION_AIRPORT  SCHEDULED_DEPARTURE  ...  ARRIVAL_TIME  \\\n",
       "0            ANC                 SEA                    5  ...         408.0   \n",
       "1            LAX                 PBI                   10  ...         741.0   \n",
       "2            SFO                 CLT                   20  ...         811.0   \n",
       "3            LAX                 MIA                   20  ...         756.0   \n",
       "4            SEA                 ANC                   25  ...         259.0   \n",
       "\n",
       "   ARRIVAL_DELAY  DIVERTED  CANCELLED  CANCELLATION_REASON  AIR_SYSTEM_DELAY  \\\n",
       "0          -22.0         0          0                  NaN               NaN   \n",
       "1           -9.0         0          0                  NaN               NaN   \n",
       "2            5.0         0          0                  NaN               NaN   \n",
       "3           -9.0         0          0                  NaN               NaN   \n",
       "4          -21.0         0          0                  NaN               NaN   \n",
       "\n",
       "   SECURITY_DELAY  AIRLINE_DELAY  LATE_AIRCRAFT_DELAY  WEATHER_DELAY  \n",
       "0             NaN            NaN                  NaN            NaN  \n",
       "1             NaN            NaN                  NaN            NaN  \n",
       "2             NaN            NaN                  NaN            NaN  \n",
       "3             NaN            NaN                  NaN            NaN  \n",
       "4             NaN            NaN                  NaN            NaN  \n",
       "\n",
       "[5 rows x 31 columns]"
      ]
     },
     "execution_count": 4,
     "metadata": {},
     "output_type": "execute_result"
    }
   ],
   "source": [
    "loaded_df=pd.read_csv('flights.csv')\n",
    "loaded_df.head()"
   ]
  },
  {
   "cell_type": "code",
   "execution_count": 6,
   "metadata": {},
   "outputs": [],
   "source": [
    "df = loaded_df.copy()"
   ]
  },
  {
   "cell_type": "code",
   "execution_count": 7,
   "metadata": {},
   "outputs": [],
   "source": [
    "df = df[df['CANCELLED'] == 0]\n",
    "# Columns to drop\n",
    "columns_to_drop = [\n",
    "    \"YEAR\", \"TAIL_NUMBER\", \"CANCELLED\", \"CANCELLATION_REASON\",\n",
    "    \"AIR_SYSTEM_DELAY\", \"SECURITY_DELAY\", \"AIRLINE_DELAY\", \"LATE_AIRCRAFT_DELAY\", \"WEATHER_DELAY\"\n",
    "]\n",
    "\n",
    "# Drop columns\n",
    "df.drop(columns=columns_to_drop, inplace=True)\n",
    "\n",
    "columns_to_drop = ['SCHEDULED_DEPARTURE','WHEELS_ON','TAXI_IN','DIVERTED']\n",
    "df.drop(columns=columns_to_drop, inplace=True)\n",
    "\n",
    "columns_to_drop = ['SCHEDULED_TIME','ELAPSED_TIME','ARRIVAL_TIME']\n",
    "df.drop(columns=columns_to_drop, inplace=True)"
   ]
  },
  {
   "cell_type": "code",
   "execution_count": 8,
   "metadata": {},
   "outputs": [
    {
     "data": {
      "text/plain": [
       "(5714008, 15)"
      ]
     },
     "execution_count": 8,
     "metadata": {},
     "output_type": "execute_result"
    }
   ],
   "source": [
    "df.dropna(inplace=True)\n",
    "df.shape"
   ]
  },
  {
   "cell_type": "code",
   "execution_count": 9,
   "metadata": {},
   "outputs": [
    {
     "name": "stdout",
     "output_type": "stream",
     "text": [
      "0          1\n",
      "1          1\n",
      "2          1\n",
      "3          1\n",
      "4          1\n",
      "          ..\n",
      "5819074    0\n",
      "5819075    0\n",
      "5819076    0\n",
      "5819077    0\n",
      "5819078    0\n",
      "Name: is_holiday, Length: 5714008, dtype: int64\n"
     ]
    }
   ],
   "source": [
    "import datetime\n",
    "\n",
    "# List of holidays in 2015 (MONTH, DAY)\n",
    "holidays_2015 = [\n",
    "    datetime.date(2015, 1, 1),   # New Year's Day\n",
    "    datetime.date(2015, 1, 19),  # Martin Luther King Jr. Day\n",
    "    datetime.date(2015, 2, 16),  # Presidents' Day\n",
    "    datetime.date(2015, 5, 25),  # Memorial Day\n",
    "    datetime.date(2015, 7, 3),   # Independence Day (observed)\n",
    "    datetime.date(2015, 9, 7),   # Labor Day\n",
    "    datetime.date(2015, 10, 12), # Columbus Day\n",
    "    datetime.date(2015, 11, 11), # Veterans Day\n",
    "    datetime.date(2015, 11, 26), # Thanksgiving Day\n",
    "    datetime.date(2015, 12, 25)  # Christmas Day\n",
    "]\n",
    "\n",
    "# Create a new column with the date\n",
    "df[\"DATE\"] = df.apply(lambda row: datetime.date(2015, row[\"MONTH\"], row[\"DAY\"]), axis=1)\n",
    "\n",
    "\n",
    "# Include one day before and after each holiday\n",
    "expanded_holidays = set(holidays_2015)\n",
    "for holiday in holidays_2015:\n",
    "    expanded_holidays.add(holiday - datetime.timedelta(days=1))  # Day before\n",
    "    expanded_holidays.add(holiday + datetime.timedelta(days=1))  # Day after\n",
    "\n",
    "# Update is_holiday with expanded holidays\n",
    "df[\"is_holiday\"] = df[\"DATE\"].apply(lambda x: 1 if x in expanded_holidays else 0)\n",
    "df.drop(\"DATE\", axis=1, inplace=True)\n",
    "print(df[\"is_holiday\"])"
   ]
  },
  {
   "cell_type": "code",
   "execution_count": 10,
   "metadata": {},
   "outputs": [],
   "source": [
    "df.info\n",
    "df[\"DEPARTURE_TIME_HOUR\"] = df[\"DEPARTURE_TIME\"] // 100\n",
    "df[\"DEPARTURE_TIME_MINUTE\"] = df[\"DEPARTURE_TIME\"] % 100\n",
    "df.drop(\"DEPARTURE_TIME\", axis=1, inplace=True)\n",
    "\n",
    "df[\"SCHEDULED_ARRIVAL_HOUR\"] = df[\"SCHEDULED_ARRIVAL\"] // 100\n",
    "df[\"SCHEDULED_ARRIVAL_MINUTE\"] = df[\"SCHEDULED_ARRIVAL\"] % 100\n",
    "df.drop(\"SCHEDULED_ARRIVAL\", axis=1, inplace=True)"
   ]
  },
  {
   "cell_type": "code",
   "execution_count": 12,
   "metadata": {},
   "outputs": [],
   "source": [
    "df.to_csv(\"everything_done_except_onehot.csv\")"
   ]
  },
  {
   "cell_type": "code",
   "execution_count": 13,
   "metadata": {},
   "outputs": [],
   "source": [
    "df_sampled2 = pd.get_dummies(df, columns=[\"AIRLINE\"], prefix=\"AIRLINE\", drop_first=True)\n",
    "\n",
    "# Only convert the one-hot encoded columns to int\n",
    "airline_columns = [col for col in df_sampled2.columns if col.startswith(\"AIRLINE_\")]\n",
    "df_sampled2[airline_columns] = df_sampled2[airline_columns].astype(int)"
   ]
  },
  {
   "cell_type": "code",
   "execution_count": 16,
   "metadata": {},
   "outputs": [
    {
     "name": "stdout",
     "output_type": "stream",
     "text": [
      "{'ATL': 343506, 'ORD': 276554, 'DFW': 232647, 'DEN': 193402, 'LAX': 192003, 'PHX': 145552, 'SFO': 145491, 'IAH': 144019, 'LAS': 131937, 'MSP': 111055, 'SEA': 110178, 'MCO': 109532, 'DTW': 106992, 'BOS': 104804, 'CLT': 99052, 'EWR': 98341, 'SLC': 96505, 'LGA': 94834, 'JFK': 91663, 'BWI': 84329, 'MDW': 78685, 'FLL': 72580, 'DCA': 71579, 'SAN': 69270, 'MIA': 68301, 'PHL': 64751, 'TPA': 63077, 'DAL': 58672, 'HOU': 51132, 'PDX': 46777, 'BNA': 46371, 'STL': 46181, 'HNL': 42946, 'OAK': 41669, 'AUS': 41392, 'MSY': 38292, 'MCI': 38106, 'SJC': 37708, 'SMF': 36788, 'SNA': 36708, 'CLE': 33765, 'IAD': 33664, 'RDU': 31074, 10397: 30750, 'SAT': 29375, 'MKE': 29172, 'RSW': 26938, 13930: 26046, 'IND': 25048, 'SJU': 24399, 'PIT': 23669, 'CMH': 23557, 'PBI': 22134, 'OGG': 20477, 'CVG': 19467, 11298: 19449, 'ABQ': 18918, 'BUR': 18527, 'BDL': 18375, 'JAX': 17777, 'ONT': 17769, 11292: 17083, 12892: 16626, 'BUF': 16476, 'OMA': 16442, 'ANC': 15818, 'OKC': 15797, 'TUS': 14922, 'RIC': 14887, 'MEM': 14381, 'TUL': 13701, 14771: 13288, 'RNO': 12851, 12266: 12376, 'BHM': 12282, 14107: 12163, 12889: 11910, 'ELP': 11806, 'CHS': 11548, 'BOI': 11524, 'KOA': 11052, 'PVD': 10757, 'GRR': 10541, 'LIH': 10487, 'LIT': 10132, 13487: 9995, 'SDF': 9940, 14747: 9743, 10721: 9539, 'GEG': 9440, 11433: 9385, 'ORF': 9084, 11057: 8999, 11618: 8970, 'XNA': 8963, 'PSP': 8865, 'MSN': 8830, 'LGB': 8704, 13204: 8435, 'DAY': 8362, 14869: 8253, 'DSM': 8101, 12953: 7997, 'ICT': 7877, 12478: 7784, 10821: 7543, 'SAV': 7372, 'ALB': 7322, 'MAF': 7252, 'ROC': 7240, 13232: 7164, 'HPN': 7132, 'BTR': 6983, 'FAT': 6924, 'JAN': 6905, 'TYS': 6754, 'COS': 6745, 'CID': 6588, 'GSO': 6462, 'PNS': 6403, 11278: 6387, 'GSP': 6380, 'MHT': 6115, 'SGF': 6035, 'CAK': 5974, 'SHV': 5932, 'SBA': 5878, 14679: 5830, 'LEX': 5800, 14100: 5712, 'ITO': 5708, 'FAR': 5566, 11259: 5559, 13303: 5552, 'SYR': 5447, 11697: 5400, 'FSD': 5157, 'FWA': 5079, 'CAE': 5026, 'LFT': 5005, 'MOB': 4905, 15304: 4821, 'VPS': 4744, 'MYR': 4725, 'GRB': 4720, 'CRP': 4716, 'FNT': 4629, 'PWM': 4529, 'PIA': 4490, 'LBB': 4458, 12191: 4436, 'HSV': 4423, 'SBN': 4343, 14057: 4276, 'ISP': 4238, 10693: 4218, 'STT': 4171, 'ECP': 4139, 'CHA': 4125, 'AMA': 4074, 15016: 4058, 'JNU': 4031, 'GRK': 3869, 13796: 3777, 10423: 3764, 'EVV': 3707, 'MLI': 3619, 'EUG': 3558, 'BZN': 3557, 'ACY': 3527, 12173: 3518, 'GPT': 3514, 13495: 3450, 'JAC': 3444, 14893: 3398, 'BIS': 3382, 13198: 3349, 14908: 3324, 'SRQ': 3318, 'MFE': 3294, 14831: 3275, 'ASE': 3263, 'MDT': 3210, 'RAP': 3197, 'TLH': 3141, 'GJT': 3122, 'MGM': 3107, 'SBP': 3063, 'AEX': 3054, 'HRL': 3021, 11042: 3020, 'BTV': 2884, 'MLU': 2876, 'BIL': 2851, 'MRY': 2836, 14492: 2820, 12264: 2815, 'TTN': 2771, 'ATW': 2759, 'AVL': 2673, 'TVC': 2660, 'GNV': 2635, 'BMI': 2620, 'BFL': 2587, 'LNK': 2564, 13342: 2485, 'ISN': 2479, 14683: 2453, 'MFR': 2430, 'PSC': 2394, 'AGS': 2345, 'CRW': 2315, 'KTN': 2287, 'BRO': 2258, 12339: 2232, 'ABI': 2231, 'ABE': 2227, 'IDA': 2225, 'ROA': 2217, 'CLL': 2200, 'TYR': 2199, 'FAI': 2169, 'LRD': 2127, 'RDM': 2119, 'CHO': 2092, 11066: 2064, 'MSO': 2053, 'DRO': 2019, 14122: 2008, 'ELM': 2007, 'FCA': 1996, 'CMI': 1994, 'RST': 1971, 'GTF': 1944, 'EYW': 1940, 'FSM': 1910, 'TRI': 1906, 'YUM': 1854, 'ILM': 1838, 'MOT': 1820, 11193: 1811, 'LCH': 1802, 'LAN': 1800, 'SGU': 1770, '10397': 1759, 'CPR': 1744, 'AZO': 1743, 14843: 1735, 10140: 1702, 13830: 1695, 'DLH': 1666, 10800: 1659, 'MBS': 1654, 14635: 1646, 13891: 1636, 14027: 1629, 10529: 1613, 'FAY': 1612, 'FLG': 1610, 12451: 1598, 'LSE': 1581, 'MHK': 1562, 'SJT': 1550, 14524: 1543, 13851: 1543, 'ACT': 1538, '13930': 1520, 'SPI': 1517, 10792: 1487, 'DAB': 1486, 'SAF': 1435, 13244: 1435, 'HLN': 1419, 13871: 1417, 'CWA': 1361, 'BQN': 1331, 'AVP': 1326, 'SIT': 1322, 'MLB': 1322, 'ACV': 1268, 'LBE': 1245, 'DHN': 1243, 'COU': 1241, 15370: 1241, 'LAW': 1236, 'PHF': 1229, 15376: 1223, 'EGE': 1198, 'SPS': 1170, 10299: 1148, '11298': 1137, 10994: 1133, 'OAJ': 1118, 10713: 1093, 10599: 1078, 14570: 1072, 'CSG': 1060, 14307: 1028, '12892': 1002, '11292': 994, 'GCC': 982, 12992: 979, 11540: 977, 'MTJ': 966, 'RHI': 937, 'STX': 932, 'VLD': 925, 'DIK': 918, 'TXK': 918, 'ROW': 915, 'GTR': 912, 'BPT': 905, 12758: 904, 'TOL': 897, 'MEI': 888, 15919: 882, 'SCE': 882, 'BET': 880, 'HIB': 878, 11986: 874, 'DBQ': 869, 'BQK': 869, 'SUN': 867, 'ABY': 866, 13931: 860, 'BRW': 822, 12982: 822, 'SCC': 816, '14771': 806, 'TWF': 805, 13485: 794, 14730: 793, 11884: 779, 'JMS': 743, '12889': 739, 'PSE': 738, 12954: 730, 'PLN': 730, '14107': 721, '12266': 715, 'GFK': 714, 'ERI': 708, 11267: 707, 'RDD': 706, 'BLI': 704, 14576: 691, 10257: 688, 'HDN': 686, 'SWF': 678, 12197: 678, 'RKS': 670, 'BJI': 664, 'ABR': 663, 11423: 659, 'PIH': 652, 'SMX': 652, 'PSG': 652, 'CDV': 652, 12278: 652, 'COD': 651, 'YAK': 650, 'WRG': 649, 'BTM': 647, 'GCK': 637, 'EAU': 634, 'OTZ': 633, 'OME': 632, 'ORH': 632, 'JLN': 629, 'CLD': 628, 14262: 625, 14685: 623, 'PAH': 622, 'CMX': 619, 'MKG': 618, '14747': 618, 11638: 614, 'GGG': 613, 10781: 612, 12448: 609, 'GRI': 607, 'IMT': 606, 15096: 600, 'CIU': 596, 11996: 595, 'SUX': 589, 'LWS': 588, 15412: 588, 'BRD': 582, 'ALO': 581, 'CDC': 572, '13204': 571, 11109: 570, 'EWN': 565, 'PIB': 563, 13158: 563, 11995: 561, 'HYS': 557, '13487': 557, 'LAR': 556, 'INL': 556, 'ESC': 554, 12945: 553, '10721': 552, 'HOB': 547, 'APN': 546, 13296: 540, '11618': 538, '11057': 538, 14689: 529, 'EKO': 517, 14814: 513, 11003: 502, '11433': 497, 11637: 493, 14783: 492, '14869': 485, 'ACK': 485, 11823: 481, 13577: 474, 12402: 473, 'GUC': 472, '12478': 471, 'DVL': 466, 11977: 462, 10874: 459, 14321: 450, '12953': 450, '10821': 448, 14193: 447, 14108: 446, 'ADQ': 437, '13232': 434, 11775: 416, 13422: 407, 12896: 406, 12951: 404, 10980: 394, 10868: 392, 14696: 391, 11721: 386, 15624: 384, '13303': 377, 11612: 376, '11278': 372, 12217: 369, 'BGR': 363, '14679': 354, '14100': 353, '11697': 353, 11481: 351, 12391: 344, 11982: 340, 11140: 340, 'GUM': 331, 10785: 327, 10627: 322, '11259': 314, 10849: 314, 'IAG': 312, 12523: 311, 11603: 309, '15304': 304, 'MQT': 296, 13277: 290, 10279: 287, 14986: 287, 13367: 285, 11973: 281, 'PBG': 278, 13029: 272, 13230: 270, 12206: 266, 15249: 265, 10185: 265, 'OTH': 264, 10431: 263, '14057': 263, 15356: 261, 'BGM': 259, 13377: 259, 11921: 256, 'PUB': 253, 10620: 248, 10408: 248, '12191': 245, '12173': 243, '15016': 237, '10693': 232, 14698: 231, 10158: 229, 10135: 226, 13264: 225, 10685: 224, 10990: 223, 11953: 221, 14457: 220, 13256: 219, 13476: 218, '13796': 217, 11146: 214, 10208: 213, 14574: 213, 15024: 213, 15411: 211, 11337: 210, 12884: 209, 13433: 209, 12389: 208, 'WYS': 208, 11049: 207, 'CNY': 205, 'MVY': 205, 12323: 202, 'VEL': 200, '14908': 200, '14893': 200, 15380: 199, 14252: 196, '13495': 196, 11067: 194, 14794: 191, 10747: 190, 12280: 190, 14489: 189, 13061: 187, '13198': 187, 11537: 184, '11042': 182, 12915: 182, '14831': 182, 10136: 181, 12003: 180, 14633: 174, 'CEC': 173, 10561: 172, 11413: 168, 12819: 168, 16218: 168, 11630: 165, '12264': 164, 11778: 164, '14492': 164, 13486: 162, 13076: 156, 15323: 152, 11695: 149, 12441: 149, '13342': 146, 'UST': 144, 11624: 141, 11641: 141, '14683': 141, 'MMH': 140, 14952: 140, 13290: 140, 11203: 137, 10155: 135, 14842: 135, 13184: 133, 12156: 133, 11122: 130, '12339': 129, '14843': 123, '13830': 119, 11111: 115, 11648: 115, '14122': 114, '11066': 114, 10469: 113, 12891: 113, 14960: 113, 11252: 112, 11308: 111, '14635': 110, 13360: 110, 10157: 110, '10423': 107, 14098: 107, 12898: 107, 11150: 106, 13795: 106, 10434: 106, 'PPG': 106, '14027': 105, '10140': 103, '12451': 103, '13891': 98, '10792': 98, 'ILG': 95, '10800': 94, '10529': 92, '11193': 92, 10732: 90, 'ADK': 88, 11898: 86, 14828: 86, '14524': 85, '13851': 84, 14674: 83, 12007: 83, 15295: 83, 11865: 83, 11274: 83, 14588: 83, 15389: 83, 15607: 83, 'HYA': 82, 10731: 81, 14520: 81, 10728: 81, 10146: 81, 10551: 79, 12129: 78, 'DLG': 77, 13241: 77, 'STC': 77, '10299': 77, 15401: 77, 'GST': 76, '15376': 76, '13871': 75, '13244': 75, 14709: 74, 10754: 74, 12519: 71, '10994': 71, '15370': 68, 10141: 66, '14570': 65, '14307': 64, 15027: 64, 'AKN': 63, '10713': 63, '12758': 62, '10599': 61, '11540': 59, 14150: 58, 14487: 58, 13344: 58, 11471: 58, 10631: 58, 10577: 58, 15991: 58, 14711: 58, 10926: 58, 14905: 57, 11315: 57, 10779: 57, 15041: 56, '12982': 56, 11076: 56, 11867: 56, 13933: 56, 15070: 56, 14256: 56, '12992': 56, 14006: 56, 14254: 56, 11905: 55, 10372: 55, 12511: 55, 11577: 54, 15841: 54, 15048: 54, 13970: 54, 14543: 54, 10268: 54, 14113: 54, 11013: 54, 13873: 53, 12335: 52, '13931': 52, 11617: 52, 11980: 52, 13127: 50, 10739: 50, 10918: 50, '15919': 50, 11525: 50, 12177: 50, 12255: 50, 11587: 49, 14109: 49, 12888: 49, 12343: 49, 10333: 48, '14730': 48, '11986': 48, '14262': 47, '11884': 46, 11447: 45, '11423': 44, '13485': 43, '10257': 43, '12954': 41, '14576': 40, '12197': 40, '11638': 39, '12278': 38, '11267': 37, '10781': 36, '11109': 35, '12448': 34, '14689': 34, '15412': 33, '14814': 33, '14685': 33, '15096': 33, '13577': 32, 13964: 32, '11995': 32, '12945': 31, '11996': 31, '13296': 31, 'ITH': 30, '12402': 30, '10874': 30, '11823': 29, '14783': 29, '11637': 29, '13158': 29, 11097: 29, 10154: 28, '11003': 27, 12016: 27, '11775': 26, '14193': 26, '11977': 26, 10170: 26, '11721': 26, 13459: 25, 10581: 25, '14321': 25, '12896': 24, '14108': 24, '15624': 23, '11481': 23, '14696': 23, '12391': 22, '11982': 21, '13422': 21, '10980': 21, 12265: 21, '10868': 21, '15024': 21, '12217': 20, '11612': 20, 12094: 20, '10849': 19, '12523': 19, '12951': 19, '11140': 19, '13367': 18, '10785': 18, '14986': 17, '10279': 17, '15356': 16, '11603': 16, '10158': 16, '10431': 16, '13377': 15, '10627': 15, '14698': 15, '13230': 15, '10620': 15, '13277': 15, '13264': 15, '13029': 14, '11973': 14, '13476': 14, '12206': 14, '10685': 13, '11953': 13, '15249': 13, '10990': 13, '10135': 13, '14252': 13, '14457': 13, '10185': 13, 15497: 13, '15411': 12, '11921': 12, '14794': 12, 14025: 12, '12819': 12, '13256': 12, '12389': 12, '12323': 12, '10136': 11, '11537': 11, '12280': 11, '10561': 11, '11630': 11, '11337': 11, '14489': 11, '11067': 11, '14633': 11, 13541: 11, '10408': 11, '11049': 11, '11146': 10, '11778': 10, '14574': 10, '12003': 10, '11624': 10, '12884': 10, '13061': 10, '10208': 10, '13290': 9, '11641': 9, '12441': 9, 10165: 9, '16218': 9, '12915': 9, '15380': 9, '13076': 9, '13486': 9, '10157': 9, '11111': 8, '14842': 8, 14222: 8, '11648': 8, '11203': 8, '12156': 8, '13433': 8, '12898': 8, '14952': 8, '11695': 7, '11252': 7, '13184': 7, '11308': 7, '14098': 7, '11122': 7, '15323': 7, '11413': 7, '10469': 7, '11150': 6, '12891': 6, '10155': 6, '13795': 6, '10747': 6, '10434': 6, '14828': 6, '10732': 6, '14709': 6, '13360': 6, '10754': 6, '15607': 5, '13241': 5, '15401': 5, '12129': 5, '12007': 5, '10146': 5, 13502: 5, '14520': 5, '15295': 5, '11865': 5, '14588': 5, '14674': 5, '10551': 5, '14256': 4, '15027': 4, '11315': 4, '11471': 4, '10631': 4, '13873': 4, '14711': 4, '10926': 4, '14960': 4, '13970': 4, '15991': 4, '11898': 4, '15070': 4, '15841': 4, '15041': 4, '11867': 4, '14487': 4, '11076': 4, '14905': 4, '10141': 4, '14254': 4, '10577': 4, '13344': 4, '10731': 4, '15389': 4, '14006': 4, '10728': 4, '11274': 4, '12519': 4, '10779': 4, '14150': 4, '12335': 4, 11503: 3, '13933': 3, '12255': 3, '11447': 3, '12888': 3, '10918': 3, '10372': 3, '10739': 3, '14113': 3, '13127': 3, '12177': 3, '12511': 3, '11013': 3, '14109': 3, '11525': 3, '11577': 3, '10268': 3, '15048': 3, '12343': 3, '11587': 3, '14543': 3, '11980': 3, '11617': 3, '10333': 2, '10170': 2, '10581': 2, '12016': 2, '11905': 1, '13459': 1, '11097': 1, '11503': 1, '14222': 1, '14025': 1, '13502': 1, '15497': 1, '12265': 1}\n"
     ]
    }
   ],
   "source": [
    "# Compute frequency maps\n",
    "airport_freq_map = df_sampled2[\"ORIGIN_AIRPORT\"].value_counts().to_dict()\n",
    "print(airport_freq_map)"
   ]
  },
  {
   "cell_type": "code",
   "execution_count": 17,
   "metadata": {},
   "outputs": [
    {
     "name": "stdout",
     "output_type": "stream",
     "text": [
      "Train set: (4576920, 29), Validation set: (565687, 29), Test set: (571401, 29)\n"
     ]
    }
   ],
   "source": [
    "from sklearn.model_selection import train_test_split\n",
    "\n",
    "X = df_sampled2.drop(\"ARRIVAL_DELAY\", axis=1)  # Features\n",
    "y = df_sampled2[\"ARRIVAL_DELAY\"]\n",
    "\n",
    "# Split into train+validation and test sets\n",
    "X_train_val, X_test, y_train_val, y_test = train_test_split(\n",
    "    X, y, test_size=0.1, random_state=42\n",
    ")\n",
    "\n",
    "# Split train+validation into train and validation sets\n",
    "X_train, X_val, y_train, y_val = train_test_split(\n",
    "    X_train_val, y_train_val, test_size=0.11, random_state=42  # 0.1765 = 10 / 90\n",
    ")\n",
    "\n",
    "print(f\"Train set: {X_train.shape}, Validation set: {X_val.shape}, Test set: {X_test.shape}\")"
   ]
  },
  {
   "cell_type": "code",
   "execution_count": 18,
   "metadata": {},
   "outputs": [
    {
     "name": "stdout",
     "output_type": "stream",
     "text": [
      "Train set: (4576920, 29), Validation set: (565687, 29), Test set: (571401, 29)\n"
     ]
    }
   ],
   "source": [
    "print(f\"Train set: {X_train.shape}, Validation set: {X_val.shape}, Test set: {X_test.shape}\")"
   ]
  },
  {
   "cell_type": "code",
   "execution_count": 22,
   "metadata": {},
   "outputs": [],
   "source": [
    "# Frequency encoding for train, validation, and test sets\n",
    "X_train[\"ORIGIN_AIRPORT_freq\"] = X_train[\"ORIGIN_AIRPORT\"].map(airport_freq_map)\n",
    "X_val[\"ORIGIN_AIRPORT_freq\"] = X_val[\"ORIGIN_AIRPORT\"].map(airport_freq_map)\n",
    "X_test[\"ORIGIN_AIRPORT_freq\"] = X_test[\"ORIGIN_AIRPORT\"].map(airport_freq_map)\n",
    "\n",
    "X_train[\"DESTINATION_AIRPORT_freq\"] = X_train[\"DESTINATION_AIRPORT\"].map(airport_freq_map)\n",
    "X_val[\"DESTINATION_AIRPORT_freq\"] = X_val[\"DESTINATION_AIRPORT\"].map(airport_freq_map)\n",
    "X_test[\"DESTINATION_AIRPORT_freq\"] = X_test[\"DESTINATION_AIRPORT\"].map(airport_freq_map)"
   ]
  },
  {
   "cell_type": "code",
   "execution_count": 23,
   "metadata": {},
   "outputs": [],
   "source": [
    "# Drop the original airport code columns\n",
    "X_train = X_train.drop([\"ORIGIN_AIRPORT\", \"DESTINATION_AIRPORT\"], axis=1)\n",
    "X_val = X_val.drop([\"ORIGIN_AIRPORT\", \"DESTINATION_AIRPORT\"], axis=1)\n",
    "X_test = X_test.drop([\"ORIGIN_AIRPORT\", \"DESTINATION_AIRPORT\"], axis=1)"
   ]
  },
  {
   "cell_type": "code",
   "execution_count": 25,
   "metadata": {},
   "outputs": [],
   "source": [
    "\n",
    "def run_xgboost(X_train, y_train, X_val, y_val, params):\n",
    "\n",
    "  # Initialize XGBoost Regressor\n",
    "  xgb_model = xgb.XGBRegressor(\n",
    "      tree_method=\"gpu_hist\",\n",
    "      objective=params['objective'],  # For regression\n",
    "      n_estimators=params['n_estimators'],             # Number of trees\n",
    "      max_depth=params['max_depth'],                  # Maximum depth of each tree\n",
    "      learning_rate=params['learning_rate'],            # Learning rate (eta)\n",
    "      subsample=params['subsample'],                # Fraction of samples used per tree\n",
    "      colsample_bytree=params['colsample_bytree'],         # Fraction of features used per tree\n",
    "      random_state=42\n",
    "  )\n",
    "\n",
    "  # Train the model\n",
    "  xgb_model.fit(X_train, y_train)\n",
    "\n",
    "  # Predict on the validation set\n",
    "  y_val_pred = xgb_model.predict(X_val)\n",
    "\n",
    "  # Evaluate the model\n",
    "  mae = mean_absolute_error(y_val, y_val_pred)\n",
    "  mse = mean_squared_error(y_val, y_val_pred)\n",
    "  r2 = r2_score(y_val, y_val_pred)\n",
    "\n",
    "  print(\"Validation Set Performance:\")\n",
    "  print(f\"Mean Absolute Error (MAE): {mae:.2f}\")\n",
    "  print(f\"Mean Squared Error (MSE): {mse:.2f}\")\n",
    "  print(f\"R-squared (R²): {r2:.2f}\")\n",
    "\n",
    "\n",
    "  # Save the XGBoost model\n",
    "  xgb_model.save_model(\"xgb_model.json\")\n",
    "  print(\"Model saved as xgb_model.json\")\n",
    "\n",
    "    # Predict using the loaded model\n",
    "  y_test_pred = xgb_model.predict(X_test)\n",
    "\n",
    "  mae = mean_absolute_error(y_test, y_test_pred)\n",
    "  mse = mean_squared_error(y_test, y_test_pred)\n",
    "  r2 = r2_score(y_test, y_test_pred)\n",
    "\n",
    "  print(\"\\n\\n\\nFinal Test Set Performance:\")\n",
    "  print(f\"Mean Absolute Error (MAE): {mae:.2f}\")\n",
    "  print(f\"Mean Squared Error (MSE): {mse:.2f}\")\n",
    "  print(f\"R-squared (R²): {r2:.2f}\")\n"
   ]
  },
  {
   "cell_type": "code",
   "execution_count": 26,
   "metadata": {},
   "outputs": [
    {
     "name": "stderr",
     "output_type": "stream",
     "text": [
      "/home/csgrads/shahr072/.local/lib/python3.10/site-packages/xgboost/core.py:158: UserWarning: [16:41:19] WARNING: /workspace/src/common/error_msg.cc:27: The tree method `gpu_hist` is deprecated since 2.0.0. To use GPU training, set the `device` parameter to CUDA instead.\n",
      "\n",
      "    E.g. tree_method = \"hist\", device = \"cuda\"\n",
      "\n",
      "  warnings.warn(smsg, UserWarning)\n",
      "/home/csgrads/shahr072/.local/lib/python3.10/site-packages/xgboost/core.py:158: UserWarning: [16:43:13] WARNING: /workspace/src/common/error_msg.cc:27: The tree method `gpu_hist` is deprecated since 2.0.0. To use GPU training, set the `device` parameter to CUDA instead.\n",
      "\n",
      "    E.g. tree_method = \"hist\", device = \"cuda\"\n",
      "\n",
      "  warnings.warn(smsg, UserWarning)\n"
     ]
    },
    {
     "name": "stdout",
     "output_type": "stream",
     "text": [
      "Validation Set Performance:\n",
      "Mean Absolute Error (MAE): 5.55\n",
      "Mean Squared Error (MSE): 76.76\n",
      "R-squared (R²): 0.95\n",
      "Model saved as xgb_model.json\n",
      "\n",
      "\n",
      "\n",
      "Final Test Set Performance:\n",
      "Mean Absolute Error (MAE): 5.54\n",
      "Mean Squared Error (MSE): 74.34\n",
      "R-squared (R²): 0.95\n"
     ]
    }
   ],
   "source": [
    "params = {\n",
    "    \"objective\" :\"reg:squarederror\",  # For regression\n",
    "    \"n_estimators\" : 500,             # Number of trees\n",
    "    \"max_depth\" : 15,                  # Maximum depth of each tree\n",
    "    \"learning_rate\" : 0.01,            # Learning rate (eta)\n",
    "    \"subsample\" : 0.8,                # Fraction of samples used per tree\n",
    "    \"colsample_bytree\" : 0.8,         # Fraction of features used per tree\n",
    "}\n",
    "run_xgboost(X_train, y_train, X_val, y_val,params)"
   ]
  }
 ],
 "metadata": {
  "kernelspec": {
   "display_name": "Python 3",
   "language": "python",
   "name": "python3"
  },
  "language_info": {
   "codemirror_mode": {
    "name": "ipython",
    "version": 3
   },
   "file_extension": ".py",
   "mimetype": "text/x-python",
   "name": "python",
   "nbconvert_exporter": "python",
   "pygments_lexer": "ipython3",
   "version": "3.10.12"
  }
 },
 "nbformat": 4,
 "nbformat_minor": 2
}
