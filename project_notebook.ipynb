{
 "cells": [
  {
   "cell_type": "markdown",
   "metadata": {},
   "source": [
    "The project follows a systematic approach:\n",
    "\n",
    "• Import and preprocess the dataset, including handling missing values, standardizing numerical features, and encoding categorical variables.\\\n",
    "• Conduct exploratory data analysis (EDA) to understand data distribution and visualize patterns relevant to flight cancellations.\\\n",
    "• Perform feature engineering and split the dataset into training, validation, and test sets (80-10-10).\\\n",
    "• Establish baseline models with logistic regression and decision tree models to provide an initial benchmark for performance.\\\n",
    "• Apply advanced model training using more complex models to improve prediction accuracy.\\\n",
    "• Conduct hyperparameter tuning to optimize model parameters for the best performance.\\\n",
    "• Evaluate the optimized models on the test set to measure real-world prediction accuracy.\\\n",
    "• Analyze feature importance to interpret model results, identifying keyfactors affecting flight cancellations.\\\n",
    "• Compiling findings, methodologies, and future work for the final report.\\"
   ]
  },
  {
   "cell_type": "markdown",
   "metadata": {},
   "source": [
    "## Step-1: Import and preprocess the dataset\n",
    "\n",
    "- Import the dataset.\n",
    "- Handle missing values."
   ]
  },
  {
   "cell_type": "markdown",
   "metadata": {},
   "source": [
    "#### Importing the dataset."
   ]
  },
  {
   "cell_type": "code",
   "execution_count": 2,
   "metadata": {},
   "outputs": [
    {
     "name": "stdout",
     "output_type": "stream",
     "text": [
      "/app\n",
      "docker-compose.yml  flights_cleaned.csv     requirements.txt\n",
      "Dockerfile\t    project_notebook.ipynb\n",
      "flight_dataset\t    README.md\n",
      "\n"
     ]
    },
    {
     "name": "stderr",
     "output_type": "stream",
     "text": [
      "/tmp/ipykernel_79/2681771179.py:11: DtypeWarning: Columns (7,8) have mixed types. Specify dtype option on import or set low_memory=False.\n",
      "  df_flights = pd.read_csv('flight_dataset/flights.csv')\n"
     ]
    },
    {
     "name": "stdout",
     "output_type": "stream",
     "text": [
      "   YEAR  MONTH  DAY  DAY_OF_WEEK AIRLINE  FLIGHT_NUMBER TAIL_NUMBER  \\\n",
      "0  2015      1    1            4      AS             98      N407AS   \n",
      "1  2015      1    1            4      AA           2336      N3KUAA   \n",
      "2  2015      1    1            4      US            840      N171US   \n",
      "3  2015      1    1            4      AA            258      N3HYAA   \n",
      "4  2015      1    1            4      AS            135      N527AS   \n",
      "\n",
      "  ORIGIN_AIRPORT DESTINATION_AIRPORT  SCHEDULED_DEPARTURE  ...  ARRIVAL_TIME  \\\n",
      "0            ANC                 SEA                    5  ...         408.0   \n",
      "1            LAX                 PBI                   10  ...         741.0   \n",
      "2            SFO                 CLT                   20  ...         811.0   \n",
      "3            LAX                 MIA                   20  ...         756.0   \n",
      "4            SEA                 ANC                   25  ...         259.0   \n",
      "\n",
      "   ARRIVAL_DELAY  DIVERTED  CANCELLED  CANCELLATION_REASON  AIR_SYSTEM_DELAY  \\\n",
      "0          -22.0         0          0                  NaN               NaN   \n",
      "1           -9.0         0          0                  NaN               NaN   \n",
      "2            5.0         0          0                  NaN               NaN   \n",
      "3           -9.0         0          0                  NaN               NaN   \n",
      "4          -21.0         0          0                  NaN               NaN   \n",
      "\n",
      "   SECURITY_DELAY  AIRLINE_DELAY  LATE_AIRCRAFT_DELAY  WEATHER_DELAY  \n",
      "0             NaN            NaN                  NaN            NaN  \n",
      "1             NaN            NaN                  NaN            NaN  \n",
      "2             NaN            NaN                  NaN            NaN  \n",
      "3             NaN            NaN                  NaN            NaN  \n",
      "4             NaN            NaN                  NaN            NaN  \n",
      "\n",
      "[5 rows x 31 columns]\n"
     ]
    }
   ],
   "source": [
    "import pandas as pd\n",
    "import os\n",
    "\n",
    "# Check the current working directory\n",
    "print(os.getcwd())\n",
    "!ls\n",
    "# Print the full path before '/app'\n",
    "full_path = os.getcwd()\n",
    "print(full_path.split('/app')[0])\n",
    "# Import the flights.csv file into a pandas DataFrame\n",
    "df_flights = pd.read_csv('flight_dataset/flights.csv')\n",
    "print(df_flights.head())"
   ]
  },
  {
   "cell_type": "code",
   "execution_count": 3,
   "metadata": {},
   "outputs": [
    {
     "name": "stdout",
     "output_type": "stream",
     "text": [
      "AIR_SYSTEM_DELAY\n",
      "0.0      498613\n",
      "1.0       28003\n",
      "15.0      23199\n",
      "2.0       22981\n",
      "3.0       21446\n",
      "          ...  \n",
      "464.0         1\n",
      "462.0         1\n",
      "545.0         1\n",
      "450.0         1\n",
      "477.0         1\n",
      "Name: count, Length: 570, dtype: int64\n",
      "4755640\n"
     ]
    }
   ],
   "source": [
    "\n",
    "AIR_SYSTEM_DELAY_counts = df_flights['AIR_SYSTEM_DELAY'].value_counts()\n",
    "print(AIR_SYSTEM_DELAY_counts)\n",
    "\n",
    "print(df_flights['AIR_SYSTEM_DELAY'].isnull().sum())"
   ]
  },
  {
   "cell_type": "code",
   "execution_count": 7,
   "metadata": {},
   "outputs": [],
   "source": [
    "# Columns not needed or not typically needed\n",
    "not_needed_columns = [\n",
    "    \"YEAR\",            # All 2015\n",
    "    \"FLIGHT_NUMBER\",   # Unique to each flight, doesn't generalize well for predictions.\n",
    "    \"TAIL_NUMBER\",     # Unique identifier for aircraft, unlikely to contribute to predictions.\n",
    "    \"WHEELS_OFF\",      # Redundant; its effect is captured in departure delay and time.\n",
    "    \"WHEELS_ON\"        # Redundant; its effect is captured in arrival delay and time.\n",
    "]\n",
    "df_flights.drop(columns=not_needed_columns, inplace=True)"
   ]
  },
  {
   "cell_type": "markdown",
   "metadata": {},
   "source": [
    "#### exploring the dataset types and columns and null values"
   ]
  },
  {
   "cell_type": "code",
   "execution_count": 15,
   "metadata": {},
   "outputs": [],
   "source": [
    "def explore_the_df(df):\n",
    "    print(df.shape)\n",
    "    print(df.info())\n",
    "\n",
    "    null_counts = df.isnull().sum()\n",
    "    # Calculate the percentage of null values\n",
    "    null_percentage = [(x / len(df) * 100) for x in null_counts]\n",
    "\n",
    "    # Combine the counts and percentages into a single DataFrame\n",
    "    null_summary = pd.DataFrame({'Null Count': null_counts, 'Percentage': null_percentage})\n",
    "    print(null_summary)"
   ]
  },
  {
   "cell_type": "code",
   "execution_count": null,
   "metadata": {},
   "outputs": [
    {
     "name": "stdout",
     "output_type": "stream",
     "text": [
      "(5819079, 31)\n",
      "<class 'pandas.core.frame.DataFrame'>\n",
      "RangeIndex: 5819079 entries, 0 to 5819078\n",
      "Data columns (total 31 columns):\n",
      " #   Column               Dtype  \n",
      "---  ------               -----  \n",
      " 0   YEAR                 int64  \n",
      " 1   MONTH                int64  \n",
      " 2   DAY                  int64  \n",
      " 3   DAY_OF_WEEK          int64  \n",
      " 4   AIRLINE              object \n",
      " 5   FLIGHT_NUMBER        int64  \n",
      " 6   TAIL_NUMBER          object \n",
      " 7   ORIGIN_AIRPORT       object \n",
      " 8   DESTINATION_AIRPORT  object \n",
      " 9   SCHEDULED_DEPARTURE  int64  \n",
      " 10  DEPARTURE_TIME       float64\n",
      " 11  DEPARTURE_DELAY      float64\n",
      " 12  TAXI_OUT             float64\n",
      " 13  WHEELS_OFF           float64\n",
      " 14  SCHEDULED_TIME       float64\n",
      " 15  ELAPSED_TIME         float64\n",
      " 16  AIR_TIME             float64\n",
      " 17  DISTANCE             int64  \n",
      " 18  WHEELS_ON            float64\n",
      " 19  TAXI_IN              float64\n",
      " 20  SCHEDULED_ARRIVAL    int64  \n",
      " 21  ARRIVAL_TIME         float64\n",
      " 22  ARRIVAL_DELAY        float64\n",
      " 23  DIVERTED             int64  \n",
      " 24  CANCELLED            int64  \n",
      " 25  CANCELLATION_REASON  object \n",
      " 26  AIR_SYSTEM_DELAY     float64\n",
      " 27  SECURITY_DELAY       float64\n",
      " 28  AIRLINE_DELAY        float64\n",
      " 29  LATE_AIRCRAFT_DELAY  float64\n",
      " 30  WEATHER_DELAY        float64\n",
      "dtypes: float64(16), int64(10), object(5)\n",
      "memory usage: 1.3+ GB\n",
      "None\n",
      "                     Null Count  Percentage\n",
      "YEAR                          0    0.000000\n",
      "MONTH                         0    0.000000\n",
      "DAY                           0    0.000000\n",
      "DAY_OF_WEEK                   0    0.000000\n",
      "AIRLINE                       0    0.000000\n",
      "FLIGHT_NUMBER                 0    0.000000\n",
      "TAIL_NUMBER               14721    0.252978\n",
      "ORIGIN_AIRPORT                0    0.000000\n",
      "DESTINATION_AIRPORT           0    0.000000\n",
      "SCHEDULED_DEPARTURE           0    0.000000\n",
      "DEPARTURE_TIME            86153    1.480526\n",
      "DEPARTURE_DELAY           86153    1.480526\n",
      "TAXI_OUT                  89047    1.530259\n",
      "WHEELS_OFF                89047    1.530259\n",
      "SCHEDULED_TIME                6    0.000103\n",
      "ELAPSED_TIME             105071    1.805629\n",
      "AIR_TIME                 105071    1.805629\n",
      "DISTANCE                      0    0.000000\n",
      "WHEELS_ON                 92513    1.589822\n",
      "TAXI_IN                   92513    1.589822\n",
      "SCHEDULED_ARRIVAL             0    0.000000\n",
      "ARRIVAL_TIME              92513    1.589822\n",
      "ARRIVAL_DELAY            105071    1.805629\n",
      "DIVERTED                      0    0.000000\n",
      "CANCELLED                     0    0.000000\n",
      "CANCELLATION_REASON     5729195   98.455357\n",
      "AIR_SYSTEM_DELAY        4755640   81.724960\n",
      "SECURITY_DELAY          4755640   81.724960\n",
      "AIRLINE_DELAY           4755640   81.724960\n",
      "LATE_AIRCRAFT_DELAY     4755640   81.724960\n",
      "WEATHER_DELAY           4755640   81.724960\n"
     ]
    }
   ],
   "source": [
    "#explore_the_df(df_flights)\n"
   ]
  },
  {
   "cell_type": "markdown",
   "metadata": {},
   "source": [
    "EDA on cancellation reason"
   ]
  },
  {
   "cell_type": "code",
   "execution_count": null,
   "metadata": {},
   "outputs": [
    {
     "data": {
      "image/png": "[encoded data removed]",
      "text/plain": [
       "<Figure size 640x480 with 1 Axes>"
      ]
     },
     "metadata": {},
     "output_type": "display_data"
    }
   ],
   "source": [
    "import matplotlib.pyplot as plt\n",
    "\n",
    "reason_counts = {\"A\": 25262, \"B\": 48851, \"C\": 15749, \"D\": 22}\n",
    "\n",
    "# Mapping codes to full descriptions\n",
    "reason_mapping = {\n",
    "    \"A\": \"Carrier-related\",\n",
    "    \"B\": \"Weather-related\",\n",
    "    \"C\": \"NAS-related\",\n",
    "    \"D\": \"Security-related\"\n",
    "}\n",
    "\n",
    "# Extract data for plotting\n",
    "codes = list(reason_counts.keys())\n",
    "counts = list(reason_counts.values())\n",
    "\n",
    "# Replace codes with full descriptions for x-axis\n",
    "descriptions = [reason_mapping[code] for code in codes]\n",
    "\n",
    "# Plot the bar chart\n",
    "plt.bar(descriptions, counts, color=\"skyblue\")\n",
    "plt.title(\"Flight Cancellations by Reason\")\n",
    "plt.xlabel(\"Cancellation Reason\")\n",
    "plt.ylabel(\"Count\")\n",
    "plt.xticks(rotation=45)  # Rotate x-axis labels for readability\n",
    "plt.tight_layout()  # Adjust layout to prevent clipping of labels\n",
    "plt.show()"
   ]
  },
  {
   "cell_type": "markdown",
   "metadata": {},
   "source": [
    "As the last 5 columns have more than 80% null values, we decide to drop those\n",
    "\n",
    "for cancelled flights, arrival delay is null, all kinds of delays are null, all 5 types of delay are all null. They have entries as number of minutes for other flights which has not been cancelled."
   ]
  },
  {
   "cell_type": "code",
   "execution_count": 22,
   "metadata": {},
   "outputs": [
    {
     "name": "stdout",
     "output_type": "stream",
     "text": [
      "32    NaN\n",
      "42    NaN\n",
      "68    NaN\n",
      "82    NaN\n",
      "90    NaN\n",
      "128   NaN\n",
      "131   NaN\n",
      "147   NaN\n",
      "166   NaN\n",
      "206   NaN\n",
      "210   NaN\n",
      "213   NaN\n",
      "214   NaN\n",
      "265   NaN\n",
      "297   NaN\n",
      "298   NaN\n",
      "306   NaN\n",
      "307   NaN\n",
      "308   NaN\n",
      "309   NaN\n",
      "310   NaN\n",
      "311   NaN\n",
      "312   NaN\n",
      "313   NaN\n",
      "314   NaN\n",
      "Name: AIR_SYSTEM_DELAY, dtype: float64\n"
     ]
    }
   ],
   "source": [
    "# selected_columns = df_flights[df_flights[\"CANCELLED\"] == 1][[\"FLIGHT_NUMBER\", \"AIRLINE\", \"DISTANCE\", \"DEPARTURE_DELAY\", \"ARRIVAL_DELAY\", 'CANCELLATION_REASON', 'AIR_SYSTEM_DELAY', 'SECURITY_DELAY', 'AIRLINE_DELAY', 'LATE_AIRCRAFT_DELAY', 'WEATHER_DELAY']]\n",
    "# print(selected_columns)\n",
    "\n",
    "\n",
    "selected_columns = df_flights[( df_flights[\"CANCELLED\"] == 1)]\n",
    "print(selected_columns['AIR_SYSTEM_DELAY'].head(25))\n",
    "# print(df_flights['CANCELLED'].value_counts())\n",
    "# print(selected_columns['CANCELLED'].value_counts())\n",
    "#AIR_SYSTEM_DELAY        = df_flights['AIR_SYSTEM_DELAY'].value_counts()"
   ]
  },
  {
   "cell_type": "code",
   "execution_count": null,
   "metadata": {},
   "outputs": [],
   "source": [
    "# List of columns to drop\n",
    "# columns_to_drop = ['CANCELLATION_REASON', 'AIR_SYSTEM_DELAY', 'SECURITY_DELAY', 'AIRLINE_DELAY', 'LATE_AIRCRAFT_DELAY', 'WEATHER_DELAY']\n",
    "\n",
    "# # Drop the columns from the dataframe\n",
    "# df_flights2 = df_flights.drop(columns=columns_to_drop)\n"
   ]
  },
  {
   "cell_type": "markdown",
   "metadata": {},
   "source": [
    "We found that if we drop 105071 rows, we get a dataset without any null or nan values. As 105071 is just 1.8% of the main dataset, so we decided to drop these rows. After dropping these, the new shape is (5714008, 25)"
   ]
  },
  {
   "cell_type": "code",
   "execution_count": 22,
   "metadata": {},
   "outputs": [
    {
     "name": "stdout",
     "output_type": "stream",
     "text": [
      "(5714008, 25)\n",
      "<class 'pandas.core.frame.DataFrame'>\n",
      "Index: 5714008 entries, 0 to 5819078\n",
      "Data columns (total 25 columns):\n",
      " #   Column               Dtype  \n",
      "---  ------               -----  \n",
      " 0   YEAR                 int64  \n",
      " 1   MONTH                int64  \n",
      " 2   DAY                  int64  \n",
      " 3   DAY_OF_WEEK          int64  \n",
      " 4   AIRLINE              object \n",
      " 5   FLIGHT_NUMBER        int64  \n",
      " 6   TAIL_NUMBER          object \n",
      " 7   ORIGIN_AIRPORT       object \n",
      " 8   DESTINATION_AIRPORT  object \n",
      " 9   SCHEDULED_DEPARTURE  int64  \n",
      " 10  DEPARTURE_TIME       float64\n",
      " 11  DEPARTURE_DELAY      float64\n",
      " 12  TAXI_OUT             float64\n",
      " 13  WHEELS_OFF           float64\n",
      " 14  SCHEDULED_TIME       float64\n",
      " 15  ELAPSED_TIME         float64\n",
      " 16  AIR_TIME             float64\n",
      " 17  DISTANCE             int64  \n",
      " 18  WHEELS_ON            float64\n",
      " 19  TAXI_IN              float64\n",
      " 20  SCHEDULED_ARRIVAL    int64  \n",
      " 21  ARRIVAL_TIME         float64\n",
      " 22  ARRIVAL_DELAY        float64\n",
      " 23  DIVERTED             int64  \n",
      " 24  CANCELLED            int64  \n",
      "dtypes: float64(11), int64(10), object(4)\n",
      "memory usage: 1.1+ GB\n",
      "None\n",
      "                     Null Count  Percentage\n",
      "YEAR                          0         0.0\n",
      "MONTH                         0         0.0\n",
      "DAY                           0         0.0\n",
      "DAY_OF_WEEK                   0         0.0\n",
      "AIRLINE                       0         0.0\n",
      "FLIGHT_NUMBER                 0         0.0\n",
      "TAIL_NUMBER                   0         0.0\n",
      "ORIGIN_AIRPORT                0         0.0\n",
      "DESTINATION_AIRPORT           0         0.0\n",
      "SCHEDULED_DEPARTURE           0         0.0\n",
      "DEPARTURE_TIME                0         0.0\n",
      "DEPARTURE_DELAY               0         0.0\n",
      "TAXI_OUT                      0         0.0\n",
      "WHEELS_OFF                    0         0.0\n",
      "SCHEDULED_TIME                0         0.0\n",
      "ELAPSED_TIME                  0         0.0\n",
      "AIR_TIME                      0         0.0\n",
      "DISTANCE                      0         0.0\n",
      "WHEELS_ON                     0         0.0\n",
      "TAXI_IN                       0         0.0\n",
      "SCHEDULED_ARRIVAL             0         0.0\n",
      "ARRIVAL_TIME                  0         0.0\n",
      "ARRIVAL_DELAY                 0         0.0\n",
      "DIVERTED                      0         0.0\n",
      "CANCELLED                     0         0.0\n"
     ]
    }
   ],
   "source": [
    "# Drop rows with any null values from df_flights2\n",
    "df_flights3= df_flights2.dropna()\n",
    "\n",
    "# Print the shape of the new dataframe to confirm the rows have been dropped\n",
    "explore_the_df(df_flights3)"
   ]
  },
  {
   "cell_type": "code",
   "execution_count": null,
   "metadata": {},
   "outputs": [],
   "source": []
  },
  {
   "cell_type": "code",
   "execution_count": 26,
   "metadata": {},
   "outputs": [
    {
     "data": {
      "text/html": [
       "<div>\n",
       "<style scoped>\n",
       "    .dataframe tbody tr th:only-of-type {\n",
       "        vertical-align: middle;\n",
       "    }\n",
       "\n",
       "    .dataframe tbody tr th {\n",
       "        vertical-align: top;\n",
       "    }\n",
       "\n",
       "    .dataframe thead th {\n",
       "        text-align: right;\n",
       "    }\n",
       "</style>\n",
       "<table border=\"1\" class=\"dataframe\">\n",
       "  <thead>\n",
       "    <tr style=\"text-align: right;\">\n",
       "      <th></th>\n",
       "      <th>YEAR</th>\n",
       "      <th>MONTH</th>\n",
       "      <th>DAY</th>\n",
       "      <th>DAY_OF_WEEK</th>\n",
       "      <th>AIRLINE</th>\n",
       "      <th>FLIGHT_NUMBER</th>\n",
       "      <th>TAIL_NUMBER</th>\n",
       "      <th>ORIGIN_AIRPORT</th>\n",
       "      <th>DESTINATION_AIRPORT</th>\n",
       "      <th>SCHEDULED_DEPARTURE</th>\n",
       "      <th>...</th>\n",
       "      <th>ELAPSED_TIME</th>\n",
       "      <th>AIR_TIME</th>\n",
       "      <th>DISTANCE</th>\n",
       "      <th>WHEELS_ON</th>\n",
       "      <th>TAXI_IN</th>\n",
       "      <th>SCHEDULED_ARRIVAL</th>\n",
       "      <th>ARRIVAL_TIME</th>\n",
       "      <th>ARRIVAL_DELAY</th>\n",
       "      <th>DIVERTED</th>\n",
       "      <th>CANCELLED</th>\n",
       "    </tr>\n",
       "  </thead>\n",
       "  <tbody>\n",
       "    <tr>\n",
       "      <th>0</th>\n",
       "      <td>2015</td>\n",
       "      <td>1</td>\n",
       "      <td>1</td>\n",
       "      <td>4</td>\n",
       "      <td>AS</td>\n",
       "      <td>98</td>\n",
       "      <td>N407AS</td>\n",
       "      <td>ANC</td>\n",
       "      <td>SEA</td>\n",
       "      <td>5</td>\n",
       "      <td>...</td>\n",
       "      <td>194.0</td>\n",
       "      <td>169.0</td>\n",
       "      <td>1448</td>\n",
       "      <td>404.0</td>\n",
       "      <td>4.0</td>\n",
       "      <td>430</td>\n",
       "      <td>408.0</td>\n",
       "      <td>-22.0</td>\n",
       "      <td>0</td>\n",
       "      <td>0</td>\n",
       "    </tr>\n",
       "    <tr>\n",
       "      <th>1</th>\n",
       "      <td>2015</td>\n",
       "      <td>1</td>\n",
       "      <td>1</td>\n",
       "      <td>4</td>\n",
       "      <td>AA</td>\n",
       "      <td>2336</td>\n",
       "      <td>N3KUAA</td>\n",
       "      <td>LAX</td>\n",
       "      <td>PBI</td>\n",
       "      <td>10</td>\n",
       "      <td>...</td>\n",
       "      <td>279.0</td>\n",
       "      <td>263.0</td>\n",
       "      <td>2330</td>\n",
       "      <td>737.0</td>\n",
       "      <td>4.0</td>\n",
       "      <td>750</td>\n",
       "      <td>741.0</td>\n",
       "      <td>-9.0</td>\n",
       "      <td>0</td>\n",
       "      <td>0</td>\n",
       "    </tr>\n",
       "    <tr>\n",
       "      <th>2</th>\n",
       "      <td>2015</td>\n",
       "      <td>1</td>\n",
       "      <td>1</td>\n",
       "      <td>4</td>\n",
       "      <td>US</td>\n",
       "      <td>840</td>\n",
       "      <td>N171US</td>\n",
       "      <td>SFO</td>\n",
       "      <td>CLT</td>\n",
       "      <td>20</td>\n",
       "      <td>...</td>\n",
       "      <td>293.0</td>\n",
       "      <td>266.0</td>\n",
       "      <td>2296</td>\n",
       "      <td>800.0</td>\n",
       "      <td>11.0</td>\n",
       "      <td>806</td>\n",
       "      <td>811.0</td>\n",
       "      <td>5.0</td>\n",
       "      <td>0</td>\n",
       "      <td>0</td>\n",
       "    </tr>\n",
       "    <tr>\n",
       "      <th>3</th>\n",
       "      <td>2015</td>\n",
       "      <td>1</td>\n",
       "      <td>1</td>\n",
       "      <td>4</td>\n",
       "      <td>AA</td>\n",
       "      <td>258</td>\n",
       "      <td>N3HYAA</td>\n",
       "      <td>LAX</td>\n",
       "      <td>MIA</td>\n",
       "      <td>20</td>\n",
       "      <td>...</td>\n",
       "      <td>281.0</td>\n",
       "      <td>258.0</td>\n",
       "      <td>2342</td>\n",
       "      <td>748.0</td>\n",
       "      <td>8.0</td>\n",
       "      <td>805</td>\n",
       "      <td>756.0</td>\n",
       "      <td>-9.0</td>\n",
       "      <td>0</td>\n",
       "      <td>0</td>\n",
       "    </tr>\n",
       "    <tr>\n",
       "      <th>4</th>\n",
       "      <td>2015</td>\n",
       "      <td>1</td>\n",
       "      <td>1</td>\n",
       "      <td>4</td>\n",
       "      <td>AS</td>\n",
       "      <td>135</td>\n",
       "      <td>N527AS</td>\n",
       "      <td>SEA</td>\n",
       "      <td>ANC</td>\n",
       "      <td>25</td>\n",
       "      <td>...</td>\n",
       "      <td>215.0</td>\n",
       "      <td>199.0</td>\n",
       "      <td>1448</td>\n",
       "      <td>254.0</td>\n",
       "      <td>5.0</td>\n",
       "      <td>320</td>\n",
       "      <td>259.0</td>\n",
       "      <td>-21.0</td>\n",
       "      <td>0</td>\n",
       "      <td>0</td>\n",
       "    </tr>\n",
       "  </tbody>\n",
       "</table>\n",
       "<p>5 rows × 25 columns</p>\n",
       "</div>"
      ],
      "text/plain": [
       "   YEAR  MONTH  DAY  DAY_OF_WEEK AIRLINE  FLIGHT_NUMBER TAIL_NUMBER  \\\n",
       "0  2015      1    1            4      AS             98      N407AS   \n",
       "1  2015      1    1            4      AA           2336      N3KUAA   \n",
       "2  2015      1    1            4      US            840      N171US   \n",
       "3  2015      1    1            4      AA            258      N3HYAA   \n",
       "4  2015      1    1            4      AS            135      N527AS   \n",
       "\n",
       "  ORIGIN_AIRPORT DESTINATION_AIRPORT  SCHEDULED_DEPARTURE  ...  ELAPSED_TIME  \\\n",
       "0            ANC                 SEA                    5  ...         194.0   \n",
       "1            LAX                 PBI                   10  ...         279.0   \n",
       "2            SFO                 CLT                   20  ...         293.0   \n",
       "3            LAX                 MIA                   20  ...         281.0   \n",
       "4            SEA                 ANC                   25  ...         215.0   \n",
       "\n",
       "   AIR_TIME  DISTANCE  WHEELS_ON  TAXI_IN  SCHEDULED_ARRIVAL  ARRIVAL_TIME  \\\n",
       "0     169.0      1448      404.0      4.0                430         408.0   \n",
       "1     263.0      2330      737.0      4.0                750         741.0   \n",
       "2     266.0      2296      800.0     11.0                806         811.0   \n",
       "3     258.0      2342      748.0      8.0                805         756.0   \n",
       "4     199.0      1448      254.0      5.0                320         259.0   \n",
       "\n",
       "   ARRIVAL_DELAY  DIVERTED  CANCELLED  \n",
       "0          -22.0         0          0  \n",
       "1           -9.0         0          0  \n",
       "2            5.0         0          0  \n",
       "3           -9.0         0          0  \n",
       "4          -21.0         0          0  \n",
       "\n",
       "[5 rows x 25 columns]"
      ]
     },
     "execution_count": 26,
     "metadata": {},
     "output_type": "execute_result"
    }
   ],
   "source": [
    "df_flights3.head()"
   ]
  },
  {
   "cell_type": "markdown",
   "metadata": {},
   "source": [
    "## Step-2: make changes to columns, encode, standardize and add engineered columns.\n"
   ]
  },
  {
   "cell_type": "markdown",
   "metadata": {},
   "source": [
    "saving the cleaned df in a csv file"
   ]
  },
  {
   "cell_type": "code",
   "execution_count": null,
   "metadata": {},
   "outputs": [],
   "source": [
    "df_flights3.to_csv('flights_cleaned.csv', index=False)\n",
    "\n",
    "#df_flights3.to_csv('C:/Users/fsani/OneDrive/Desktop/ML_projec_5232/flight_dataset/flights_cleaned.csv', index=False)"
   ]
  },
  {
   "cell_type": "code",
   "execution_count": null,
   "metadata": {},
   "outputs": [
    {
     "name": "stdout",
     "output_type": "stream",
     "text": [
      "CANCELLED\n",
      "0    5714008\n",
      "Name: count, dtype: int64\n",
      "CANCELLED\n",
      "0    5729195\n",
      "1      89884\n",
      "Name: count, dtype: int64\n",
      "CANCELLED\n",
      "0    5729195\n",
      "1      89884\n",
      "Name: count, dtype: int64\n"
     ]
    }
   ],
   "source": [
    "cancelled_counts = df_flights3['CANCELLED'].value_counts()\n",
    "print(cancelled_counts)\n",
    "\n",
    "\n",
    "cancelled_counts = df_flights2['CANCELLED'].value_counts()\n",
    "print(cancelled_counts)\n",
    "\n",
    "\n",
    "cancelled_counts = df_flights['CANCELLED'].value_counts()\n",
    "print(cancelled_counts)\n",
    "\n"
   ]
  },
  {
   "cell_type": "code",
   "execution_count": null,
   "metadata": {},
   "outputs": [
    {
     "data": {
      "text/plain": [
       "Index(['YEAR', 'MONTH', 'DAY', 'DAY_OF_WEEK', 'AIRLINE', 'FLIGHT_NUMBER',\n",
       "       'TAIL_NUMBER', 'ORIGIN_AIRPORT', 'DESTINATION_AIRPORT',\n",
       "       'SCHEDULED_DEPARTURE', 'DEPARTURE_TIME', 'DEPARTURE_DELAY', 'TAXI_OUT',\n",
       "       'WHEELS_OFF', 'SCHEDULED_TIME', 'ELAPSED_TIME', 'AIR_TIME', 'DISTANCE',\n",
       "       'WHEELS_ON', 'TAXI_IN', 'SCHEDULED_ARRIVAL', 'ARRIVAL_TIME',\n",
       "       'ARRIVAL_DELAY', 'DIVERTED', 'CANCELLED'],\n",
       "      dtype='object')"
      ]
     },
     "execution_count": 35,
     "metadata": {},
     "output_type": "execute_result"
    }
   ],
   "source": [
    "# Columns to One-Hot Encode\n",
    "one_hot_encoded_columns = [\n",
    "    \"MONTH\",                # Categorical with a fixed range of months (1-12). rechecccccccck\n",
    "    \"DAY_OF_WEEK\",          # Categorical with a fixed range of weekdays (1-7). rechecccccccck\n",
    "    \"AIRLINE\",              # Categorical; airline carrier codes. \n",
    "    \"ORIGIN_AIRPORT\",       # Categorical; origin airport codes.\n",
    "    \"DESTINATION_AIRPORT\",  # Categorical; destination airport codes.\n",
    "    \"CANCELLATION_REASON\"   # Categorical; reason for cancellation (A, B, C, D).\n",
    "]\n",
    "\n",
    "# Columns to Label Encode\n",
    "label_encoded_columns = [\n",
    "    # None for this dataset; all suggested encodings are one-hot for categorical data.\n",
    "    # You can modify this list if additional categorical columns need ordinal treatment.\n",
    "]\n",
    "\n",
    "# Columns to Standardize\n",
    "standardized_columns = [\n",
    "    \"DEPARTURE_DELAY\",      # Continuous; delays in minutes. # contrains negative values as well. Need to rechecccccccck\n",
    "    \"TAXI_OUT\",             # Continuous; taxiing time in minutes.\n",
    "    \"SCHEDULED_TIME\",       # Continuous; scheduled flight duration in minutes.\n",
    "    \"ELAPSED_TIME\",         # Continuous; actual flight duration in minutes.\n",
    "    \"AIR_TIME\",             # Continuous; time spent in the air.\n",
    "    \"DISTANCE\",             # Continuous; flight distance in miles.\n",
    "    \"TAXI_IN\",              # Continuous; taxiing time to the gate in minutes.\n",
    "    \"ARRIVAL_DELAY\",        # Continuous; delays in minutes.\n",
    "    \"AIR_SYSTEM_DELAY\",     # Continuous; delays caused by air traffic control systems.\n",
    "    \"SECURITY_DELAY\",       # Continuous; delays caused by security processes.\n",
    "    \"AIRLINE_DELAY\",        # Continuous; delays caused by airline-specific issues.\n",
    "    \"LATE_AIRCRAFT_DELAY\",  # Continuous; delays caused by late arrival of the previous aircraft.\n",
    "    \"WEATHER_DELAY\"         # Continuous; delays caused by weather conditions.\n",
    "]\n",
    "\n",
    "# Columns that need specific transformations\n",
    "other_preprocessing_columns = [\n",
    "    \"SCHEDULED_DEPARTURE\",  # Split into hour and minute for time-based analysis. currently in hh,mm format\n",
    "    \"DEPARTURE_TIME\",       # Split into hour and minute for time-based analysis. currently in hh,mm format\n",
    "    \"SCHEDULED_ARRIVAL\",    # Split into hour and minute for time-based analysis.\n",
    "    \"ARRIVAL_TIME\"          # Split into hour and minute for time-based analysis.\n",
    "]\n",
    "\n"
   ]
  }
 ],
 "metadata": {
  "kernelspec": {
   "display_name": "Python 3 (ipykernel)",
   "language": "python",
   "name": "python3"
  },
  "language_info": {
   "codemirror_mode": {
    "name": "ipython",
    "version": 3
   },
   "file_extension": ".py",
   "mimetype": "text/x-python",
   "name": "python",
   "nbconvert_exporter": "python",
   "pygments_lexer": "ipython3",
   "version": "3.11.6"
  }
 },
 "nbformat": 4,
 "nbformat_minor": 2
}
